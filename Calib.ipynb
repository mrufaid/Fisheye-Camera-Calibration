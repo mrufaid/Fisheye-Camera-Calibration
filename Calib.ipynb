{
 "cells": [
  {
   "cell_type": "code",
   "execution_count": 16,
   "metadata": {},
   "outputs": [],
   "source": [
    "import numpy as np\n",
    "import cv2 as cv\n",
    "import glob\n",
    "import math"
   ]
  },
  {
   "cell_type": "code",
   "execution_count": 4,
   "metadata": {},
   "outputs": [],
   "source": [
    "\n",
    "# termination criteria\n",
    "criteria = (cv.TERM_CRITERIA_EPS + cv.TERM_CRITERIA_MAX_ITER, 30, 0.001)\n",
    " \n",
    "# prepare object points, like (0,0,0), (1,0,0), (2,0,0) ....,(6,5,0)\n",
    "objp = np.zeros((7*7,3), np.float32)\n",
    "objp[:,:2] = np.mgrid[0:7,0:7].T.reshape(-1,2)\n",
    " \n",
    "# Arrays to store object points and image points from all the images.\n",
    "objpoints = [] # 3d point in real world space\n",
    "imgpoints = [] # 2d points in image plane.\n",
    " \n",
    "images = glob.glob('*.png')\n"
   ]
  },
  {
   "cell_type": "code",
   "execution_count": 5,
   "metadata": {},
   "outputs": [
    {
     "name": "stdout",
     "output_type": "stream",
     "text": [
      "True\n",
      "True\n",
      "True\n",
      "True\n",
      "True\n",
      "True\n",
      "True\n",
      "True\n",
      "True\n",
      "True\n",
      "True\n",
      "True\n",
      "True\n",
      "True\n",
      "True\n",
      "True\n"
     ]
    }
   ],
   "source": [
    "for fname in images:\n",
    " img = cv.imread(fname)\n",
    " gray = cv.cvtColor(img, cv.COLOR_BGR2GRAY)\n",
    " \n",
    " # Find the chess board corners\n",
    " ret, corners = cv.findChessboardCornersSB(gray, (7,7), None)\n",
    "\n",
    "\n",
    " print(ret)\n",
    " \n",
    " # If found, add object points, image points (after refining them)\n",
    " if ret == True:\n",
    "    objpoints.append(objp)\n",
    " else:\n",
    "   continue\n",
    " \n",
    " corners2 = cv.cornerSubPix(gray,corners, (11,11), (-1,-1), criteria)\n",
    " imgpoints.append(corners2)\n",
    " \n",
    " # Draw and display the corners\n",
    " cv.drawChessboardCorners(img, (7,7), corners, ret)\n",
    "\n",
    " cv.imshow('img', img)\n",
    " cv.waitKey(500)\n",
    " \n",
    "cv.destroyAllWindows()"
   ]
  },
  {
   "cell_type": "code",
   "execution_count": 6,
   "metadata": {},
   "outputs": [],
   "source": [
    "ret, mtx, dist, rvecs, tvecs = cv.calibrateCamera(objpoints, imgpoints, gray.shape[::-1], None, None)\n",
    "img = cv.imread(r'New_folder/test.png')\n",
    "h, w = img.shape[:2]\n",
    "newcameramtx, roi = cv.getOptimalNewCameraMatrix(mtx, dist, (w,h), 1, (w,h))"
   ]
  },
  {
   "cell_type": "code",
   "execution_count": 7,
   "metadata": {},
   "outputs": [
    {
     "name": "stdout",
     "output_type": "stream",
     "text": [
      "[[553.05377197   0.         959.03121998]\n",
      " [  0.         522.69873047 538.21025506]\n",
      " [  0.           0.           1.        ]]\n",
      "[[-3.52150447e-01  1.66373267e-01 -6.63122757e-05  5.06891510e-06\n",
      "  -4.45939058e-02]]\n",
      "(array([[-0.09437708],\n",
      "       [ 0.01593641],\n",
      "       [-0.04335968]]), array([[-0.09428622],\n",
      "       [ 0.01613284],\n",
      "       [-0.04335218]]), array([[-0.0941953 ],\n",
      "       [ 0.01600114],\n",
      "       [-0.04332838]]), array([[-0.09428087],\n",
      "       [ 0.0159561 ],\n",
      "       [-0.04334418]]), array([[-0.0942004 ],\n",
      "       [ 0.01575061],\n",
      "       [-0.04334702]]), array([[-0.09376254],\n",
      "       [ 0.01616333],\n",
      "       [-0.04338526]]), array([[-0.0940495 ],\n",
      "       [ 0.01600914],\n",
      "       [-0.04337416]]), array([[-0.09395687],\n",
      "       [ 0.01609038],\n",
      "       [-0.04335836]]), array([[-0.09414618],\n",
      "       [ 0.01622633],\n",
      "       [-0.0433707 ]]), array([[-0.09414489],\n",
      "       [ 0.01587005],\n",
      "       [-0.0433239 ]]), array([[-0.09408129],\n",
      "       [ 0.01612614],\n",
      "       [-0.04335777]]), array([[-0.0942138 ],\n",
      "       [ 0.01642471],\n",
      "       [-0.04333509]]), array([[-0.0942155 ],\n",
      "       [ 0.01620756],\n",
      "       [-0.04333524]]), array([[-0.09431618],\n",
      "       [ 0.01601693],\n",
      "       [-0.0433878 ]]), array([[-0.09428139],\n",
      "       [ 0.0161303 ],\n",
      "       [-0.04338825]]), array([[-0.09434746],\n",
      "       [ 0.01643223],\n",
      "       [-0.04334731]]))\n",
      "(array([[-0.88819438],\n",
      "       [-4.54256797],\n",
      "       [ 7.58675354]]), array([[-0.87119235],\n",
      "       [-4.14478166],\n",
      "       [ 7.54952802]]), array([[-0.43745723],\n",
      "       [-3.36689413],\n",
      "       [ 7.46818213]]), array([[-0.50550688],\n",
      "       [-4.95808101],\n",
      "       [ 7.6191354 ]]), array([[-0.07193368],\n",
      "       [-4.18002987],\n",
      "       [ 7.53726196]]), array([[ 0.72711862],\n",
      "       [-4.21509581],\n",
      "       [ 7.52569411]]), array([[-1.53449795],\n",
      "       [-0.92684762],\n",
      "       [ 7.25774205]]), array([[-1.58537062],\n",
      "       [-2.12037343],\n",
      "       [ 7.37097775]]), array([[-1.90550529],\n",
      "       [-3.90602217],\n",
      "       [ 6.39066868]]), array([[-2.33341482],\n",
      "       [-0.891721  ],\n",
      "       [ 7.26900781]]), array([[-2.46950404],\n",
      "       [-4.07436095],\n",
      "       [ 7.57185768]]), array([[-3.26857619],\n",
      "       [-4.03901628],\n",
      "       [ 7.5842447 ]]), array([[-4.0676695 ],\n",
      "       [-4.00398513],\n",
      "       [ 7.59476504]]), array([[-4.8668444 ],\n",
      "       [-3.96856552],\n",
      "       [ 7.60552442]]), array([[-5.66608004],\n",
      "       [-3.93313547],\n",
      "       [ 7.61679168]]), array([[-6.46524486],\n",
      "       [-3.89806658],\n",
      "       [ 7.62986125]]))\n"
     ]
    }
   ],
   "source": [
    "print(newcameramtx)\n",
    "print(dist)\n",
    "print(rvecs)\n",
    "print(tvecs)\n"
   ]
  },
  {
   "cell_type": "code",
   "execution_count": 8,
   "metadata": {},
   "outputs": [
    {
     "data": {
      "text/plain": [
       "False"
      ]
     },
     "execution_count": 8,
     "metadata": {},
     "output_type": "execute_result"
    }
   ],
   "source": [
    "gray.shape[::-1]\n",
    "# undistort\n",
    "dst = cv.undistort(img, mtx, dist, None, newcameramtx)\n",
    " \n",
    "# crop the image\n",
    "x, y, w, h = roi\n",
    "dst = dst[y:y+h, x:x+w]\n",
    "cv.imwrite('New folder\\calibresult.png', dst)\n",
    "mapx, mapy = cv.initUndistortRectifyMap(mtx, dist, None, newcameramtx, (w,h), 5)\n",
    "dst = cv.remap(img, mapx, mapy, cv.INTER_LINEAR)\n",
    " \n",
    "# crop the image\n",
    "x, y, w, h = roi\n",
    "dst = dst[y:y+h, x:x+w]\n",
    "cv.imwrite('New folder\\calibresult_rect.png', dst)\n"
   ]
  },
  {
   "cell_type": "code",
   "execution_count": 9,
   "metadata": {},
   "outputs": [
    {
     "data": {
      "text/plain": [
       "-1"
      ]
     },
     "execution_count": 9,
     "metadata": {},
     "output_type": "execute_result"
    }
   ],
   "source": [
    "cv.imshow('d',dst)\n",
    "cv.waitKey(0)"
   ]
  },
  {
   "cell_type": "markdown",
   "metadata": {},
   "source": [
    "---\n",
    "### Replicating the Leopard camera model *LI-VENUS-OX03D4C-GM2A-124H* witha field of view of 124 degrees horizontal and reslution of 1920 (H) x 1536 (V)\n"
   ]
  },
  {
   "cell_type": "code",
   "execution_count": 23,
   "metadata": {},
   "outputs": [
    {
     "data": {
      "text/plain": [
       "array([[553.05377197,   0.        , 959.03121998],\n",
       "       [  0.        , 522.69873047, 538.21025506],\n",
       "       [  0.        ,   0.        ,   1.        ]])"
      ]
     },
     "execution_count": 23,
     "metadata": {},
     "output_type": "execute_result"
    }
   ],
   "source": [
    "camera_matrix_124= newcameramtx\n",
    "camera_matrix_124\n"
   ]
  },
  {
   "cell_type": "code",
   "execution_count": 26,
   "metadata": {},
   "outputs": [
    {
     "name": "stdout",
     "output_type": "stream",
     "text": [
      "1915.8344647485053 1810.6815164472503\n"
     ]
    }
   ],
   "source": [
    "def calculate_d(focal_length, fov):\n",
    "    fov_radians = math.radians(fov)\n",
    "    d = 2 * focal_length * math.tan(fov_radians / 2)\n",
    "    return d\n",
    "\n",
    "\n",
    "\n",
    "fx=newcameramtx[0][0]\n",
    "fy=newcameramtx[1][1]\n",
    "given_fov= 120 #degrees\n",
    "\n",
    "dx= calculate_d(fx, given_fov)\n",
    "dy= calculate_d(fy, given_fov)\n",
    "\n",
    "print(dx,dy)\n",
    "\n",
    "\n"
   ]
  },
  {
   "cell_type": "code",
   "execution_count": 27,
   "metadata": {},
   "outputs": [
    {
     "data": {
      "text/plain": [
       "99.2"
      ]
     },
     "execution_count": 27,
     "metadata": {},
     "output_type": "execute_result"
    }
   ],
   "source": [
    "#calculate the field of view in vertical    direction\n",
    "\n",
    "FOV_x=124\n",
    "h=1920 #horizontal resolution\n",
    "v=1536 #vertical resoltion\n",
    "aspect_ratio= h/v\n",
    "FOV_y= FOV_x/aspect_ratio\n",
    "FOV_y\n"
   ]
  },
  {
   "cell_type": "code",
   "execution_count": 25,
   "metadata": {},
   "outputs": [
    {
     "name": "stdout",
     "output_type": "stream",
     "text": [
      "509.3336272044506 770.5053794946618\n"
     ]
    }
   ],
   "source": [
    "#calculation of new focal lengths\n",
    "\n",
    "\n",
    "def calculate_focal_len(d,fov):\n",
    "    fov_radians = math.radians(fov)\n",
    "    f=d/(2*math.tan(fov_radians/2))\n",
    "    return(f)\n",
    "\n",
    "fov_x =124\n",
    "fov_y= 99.2\n",
    "fx_new = calculate_focal_len(dx,fov_x)\n",
    "fy_new = calculate_focal_len(dy,fov_y)\n",
    "print(fx_new,fy_new)\n",
    "\n",
    "\n"
   ]
  },
  {
   "cell_type": "code",
   "execution_count": null,
   "metadata": {},
   "outputs": [],
   "source": []
  }
 ],
 "metadata": {
  "kernelspec": {
   "display_name": "base",
   "language": "python",
   "name": "python3"
  },
  "language_info": {
   "codemirror_mode": {
    "name": "ipython",
    "version": 3
   },
   "file_extension": ".py",
   "mimetype": "text/x-python",
   "name": "python",
   "nbconvert_exporter": "python",
   "pygments_lexer": "ipython3",
   "version": "3.9.16"
  }
 },
 "nbformat": 4,
 "nbformat_minor": 2
}
